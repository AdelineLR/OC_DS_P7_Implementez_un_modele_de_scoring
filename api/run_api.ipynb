{
 "cells": [
  {
   "cell_type": "code",
   "execution_count": 17,
   "id": "eebda61d",
   "metadata": {},
   "outputs": [],
   "source": [
    "# numpy and pandas for data manipulation\n",
    "import numpy as np\n",
    "import pandas as pd \n",
    "\n",
    "# Suppress warnings \n",
    "import warnings\n",
    "warnings.filterwarnings('ignore')\n",
    "\n",
    "# matplotlib and seaborn for plotting\n",
    "import matplotlib.pyplot as plt\n",
    "import seaborn as sns\n",
    "\n",
    "import shap\n",
    "\n",
    "import mlflow\n",
    "from mlflow.tracking import MlflowClient\n",
    "import joblib\n",
    "import os\n",
    "import subprocess\n",
    "import mlflow.sklearn"
   ]
  },
  {
   "cell_type": "markdown",
   "id": "a1d38449",
   "metadata": {},
   "source": [
    "mlflow server --backend-store-uri sqlite:///mlflow.db --default-artifact-root ./mlruns --host 127.0.0.1 --port 5000\n",
    "\n",
    "uvicorn api:app --host 127.0.0.1 --port 8000 --reload"
   ]
  },
  {
   "cell_type": "code",
   "execution_count": 18,
   "id": "8a6d0420",
   "metadata": {},
   "outputs": [],
   "source": [
    "seed = 42\n",
    "\n",
    "final_df = pd.read_pickle('df_final.pkl')\n",
    "\n",
    "train_df = final_df[final_df['TARGET'].notnull()]\n",
    "test_df = final_df[final_df['TARGET'].isnull()]\n",
    "\n",
    "# Define features (X) and target (y)\n",
    "X = train_df.drop(columns=['TARGET'])\n",
    "y = train_df['TARGET']\n",
    "\n",
    "# Split the data into train and test sets\n",
    "X_train, X_test, y_train, y_test = pfc.impute_split(X, y, test_size=0.2, random_state=seed, strategy=\"mean\")"
   ]
  },
  {
   "cell_type": "markdown",
   "id": "64aa34ab",
   "metadata": {},
   "source": [
    "[Model Deployment using FastAPI and MLFlow Model Registry | MLFLow2.0.1](https://www.youtube.com/watch?v=8laO3snNDpQ)\n",
    "https://github.com/furqan4545/MLFlow_with_FASTAPI/blob/master/fast_api_code.py\n",
    "\n",
    "[Fundamentals of MLOps — Part 4 | Tracking with MLFlow & Deployment with FastAPI](https://medium.com/analytics-vidhya/fundamentals-of-mlops-part-4-tracking-with-mlflow-deployment-with-fastapi-61614115436)\n",
    "\n",
    "[how-to-serve-machine-learning-model-using-fastapi-mlflow-minio-mysql-8b99a6c76989](https://medium.com/@ilaslanduzgun/how-to-serve-machine-learning-model-using-fastapi-mlflow-minio-mysql-8b99a6c76989)\n",
    "\n",
    "[fastapi-python-web-apis/](https://realpython.com/fastapi-python-web-apis/)"
   ]
  },
  {
   "cell_type": "code",
   "execution_count": 21,
   "id": "d91448d1",
   "metadata": {},
   "outputs": [
    {
     "name": "stdout",
     "output_type": "stream",
     "text": [
      "Prediction: {'prediction': 0, 'probabilities': 0.45484559479821207}\n"
     ]
    }
   ],
   "source": [
    "import requests\n",
    "\n",
    "endpoint = \"http://127.0.0.1:8000/predict\"\n",
    "\n",
    "data = X_test.iloc[1]\n",
    "\n",
    "payload = {\"features\": data.to_dict()}\n",
    "\n",
    "response = requests.post(endpoint, json=payload)\n",
    "\n",
    "if response.status_code == 200:\n",
    "    print(\"Prediction:\", response.json())\n",
    "else:\n",
    "    print(\"Error:\", response.status_code, response.text)"
   ]
  },
  {
   "cell_type": "code",
   "execution_count": null,
   "id": "6ad25977",
   "metadata": {},
   "outputs": [],
   "source": []
  }
 ],
 "metadata": {
  "kernelspec": {
   "display_name": "Python 3 (ipykernel)",
   "language": "python",
   "name": "python3"
  },
  "language_info": {
   "codemirror_mode": {
    "name": "ipython",
    "version": 3
   },
   "file_extension": ".py",
   "mimetype": "text/x-python",
   "name": "python",
   "nbconvert_exporter": "python",
   "pygments_lexer": "ipython3",
   "version": "3.11.4"
  },
  "toc": {
   "base_numbering": 1,
   "nav_menu": {},
   "number_sections": true,
   "sideBar": true,
   "skip_h1_title": false,
   "title_cell": "Table of Contents",
   "title_sidebar": "Contents",
   "toc_cell": false,
   "toc_position": {},
   "toc_section_display": true,
   "toc_window_display": false
  }
 },
 "nbformat": 4,
 "nbformat_minor": 5
}
