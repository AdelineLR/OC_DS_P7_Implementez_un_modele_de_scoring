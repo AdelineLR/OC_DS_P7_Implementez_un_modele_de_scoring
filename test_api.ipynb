{
 "cells": [
  {
   "cell_type": "code",
   "execution_count": 1,
   "id": "eebda61d",
   "metadata": {},
   "outputs": [],
   "source": [
    "# numpy and pandas for data manipulation\n",
    "import numpy as np\n",
    "import pandas as pd \n",
    "\n",
    "# Suppress warnings \n",
    "import warnings\n",
    "warnings.filterwarnings('ignore')"
   ]
  },
  {
   "cell_type": "code",
   "execution_count": 3,
   "id": "486dc314",
   "metadata": {},
   "outputs": [],
   "source": [
    "import LeRay_Adeline_2_3_preprocess_functions_102024 as pfc"
   ]
  },
  {
   "cell_type": "code",
   "execution_count": 4,
   "id": "8a6d0420",
   "metadata": {},
   "outputs": [],
   "source": [
    "seed = 42\n",
    "\n",
    "file_path = os.path.join(os.getcwd(), 'modelisation', 'df_final.pkl')\n",
    "\n",
    "final_df = pd.read_pickle(file_path)\n",
    "\n",
    "train_df = final_df[final_df['TARGET'].notnull()]\n",
    "test_df = final_df[final_df['TARGET'].isnull()]\n",
    "\n",
    "# Define features (X) and target (y)\n",
    "X = train_df.drop(columns=['TARGET'])\n",
    "y = train_df['TARGET']\n",
    "\n",
    "# Split the data into train and test sets\n",
    "X_train, X_test, y_train, y_test = pfc.impute_split(X, y, test_size=0.2, random_state=seed, strategy=\"median\")"
   ]
  },
  {
   "cell_type": "code",
   "execution_count": 5,
   "id": "d91448d1",
   "metadata": {},
   "outputs": [],
   "source": [
    "import requests\n",
    "\n",
    "endpoint = \"http://100.26.100.225/predict\""
   ]
  },
  {
   "cell_type": "code",
   "execution_count": 6,
   "id": "6ad25977",
   "metadata": {},
   "outputs": [],
   "source": [
    "index_good_client = y_test[y_test == 0].index[1]\n",
    "loc_good = X_test.index.get_loc(index_good_client)\n",
    "index_bad_client = y_test[y_test == 1].index[1]\n",
    "loc_bad = X_test.index.get_loc(index_bad_client)"
   ]
  },
  {
   "cell_type": "code",
   "execution_count": 7,
   "id": "8f3be59c",
   "metadata": {},
   "outputs": [
    {
     "name": "stdout",
     "output_type": "stream",
     "text": [
      "Prediction: {'prediction': 'Accepted', 'predicted_class': 0, 'probabilities': {'class_0': 0.7590670050897135, 'class_1': 0.24093299491028658}}\n"
     ]
    }
   ],
   "source": [
    "data = X_test.iloc[loc_good]\n",
    "\n",
    "payload = {\"features\": data.to_dict()}\n",
    "\n",
    "response = requests.post(endpoint, json=payload)\n",
    "\n",
    "if response.status_code == 200:\n",
    "    print(\"Prediction:\", response.json())\n",
    "else:\n",
    "    print(\"Error:\", response.status_code, response.text)"
   ]
  },
  {
   "cell_type": "code",
   "execution_count": 9,
   "id": "b687d903",
   "metadata": {},
   "outputs": [
    {
     "name": "stdout",
     "output_type": "stream",
     "text": [
      "Prediction: {'prediction': 'Rejected', 'predicted_class': 1, 'probabilities': {'class_0': 0.42317432235464647, 'class_1': 0.5768256776453535}}\n"
     ]
    }
   ],
   "source": [
    "data = X_test.iloc[loc_bad]\n",
    "\n",
    "payload = {\"features\": data.to_dict()}\n",
    "\n",
    "response = requests.post(endpoint, json=payload)\n",
    "\n",
    "if response.status_code == 200:\n",
    "    print(\"Prediction:\", response.json())\n",
    "else:\n",
    "    print(\"Error:\", response.status_code, response.text)"
   ]
  }
 ],
 "metadata": {
  "kernelspec": {
   "display_name": "Python 3 (ipykernel)",
   "language": "python",
   "name": "python3"
  },
  "language_info": {
   "codemirror_mode": {
    "name": "ipython",
    "version": 3
   },
   "file_extension": ".py",
   "mimetype": "text/x-python",
   "name": "python",
   "nbconvert_exporter": "python",
   "pygments_lexer": "ipython3",
   "version": "3.11.4"
  },
  "toc": {
   "base_numbering": 1,
   "nav_menu": {},
   "number_sections": true,
   "sideBar": true,
   "skip_h1_title": false,
   "title_cell": "Table of Contents",
   "title_sidebar": "Contents",
   "toc_cell": false,
   "toc_position": {},
   "toc_section_display": true,
   "toc_window_display": false
  }
 },
 "nbformat": 4,
 "nbformat_minor": 5
}
