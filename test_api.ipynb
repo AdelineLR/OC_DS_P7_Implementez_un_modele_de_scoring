{
 "cells": [
  {
   "cell_type": "code",
   "execution_count": 1,
   "id": "eebda61d",
   "metadata": {},
   "outputs": [],
   "source": [
    "# Import librairies\n",
    "import numpy as np\n",
    "import pandas as pd \n",
    "import os\n",
    "import requests\n",
    "\n",
    "# Suppress warnings \n",
    "import warnings\n",
    "warnings.filterwarnings('ignore')"
   ]
  },
  {
   "cell_type": "code",
   "execution_count": 2,
   "id": "89207b1e",
   "metadata": {},
   "outputs": [],
   "source": [
    "# Import data for api tests\n",
    "save_path = os.path.join(os.getcwd(), \"tests\\\\test_cases.csv\" )\n",
    "test_cases = pd.read_csv(save_path)"
   ]
  },
  {
   "cell_type": "code",
   "execution_count": 4,
   "id": "d91448d1",
   "metadata": {},
   "outputs": [],
   "source": [
    "# API url\n",
    "endpoint = \"http://35.172.183.147/predict\""
   ]
  },
  {
   "cell_type": "code",
   "execution_count": 5,
   "id": "8f3be59c",
   "metadata": {},
   "outputs": [
    {
     "name": "stdout",
     "output_type": "stream",
     "text": [
      "Prediction: {'prediction': 'Accepted', 'predicted_class': 0, 'probabilities': {'class_0': 0.6514186421709108, 'class_1': 0.34858135782908917}}\n"
     ]
    }
   ],
   "source": [
    "# Class 0\n",
    "data = test_cases.iloc[0]\n",
    "\n",
    "payload = {\"features\": data.to_dict()}\n",
    "\n",
    "response = requests.post(endpoint, json=payload)\n",
    "\n",
    "if response.status_code == 200:\n",
    "    print(\"Prediction:\", response.json())\n",
    "else:\n",
    "    print(\"Error:\", response.status_code, response.text)"
   ]
  },
  {
   "cell_type": "code",
   "execution_count": 6,
   "id": "b687d903",
   "metadata": {},
   "outputs": [
    {
     "name": "stdout",
     "output_type": "stream",
     "text": [
      "Prediction: {'prediction': 'Rejected', 'predicted_class': 1, 'probabilities': {'class_0': 0.17723668383559943, 'class_1': 0.8227633161644006}}\n"
     ]
    }
   ],
   "source": [
    "# Class 1\n",
    "data = test_cases.iloc[1]\n",
    "\n",
    "payload = {\"features\": data.to_dict()}\n",
    "\n",
    "response = requests.post(endpoint, json=payload)\n",
    "\n",
    "if response.status_code == 200:\n",
    "    print(\"Prediction:\", response.json())\n",
    "else:\n",
    "    print(\"Error:\", response.status_code, response.text)"
   ]
  },
  {
   "cell_type": "code",
   "execution_count": null,
   "id": "06aeb140",
   "metadata": {},
   "outputs": [],
   "source": []
  }
 ],
 "metadata": {
  "kernelspec": {
   "display_name": "Python 3 (ipykernel)",
   "language": "python",
   "name": "python3"
  },
  "language_info": {
   "codemirror_mode": {
    "name": "ipython",
    "version": 3
   },
   "file_extension": ".py",
   "mimetype": "text/x-python",
   "name": "python",
   "nbconvert_exporter": "python",
   "pygments_lexer": "ipython3",
   "version": "3.11.4"
  },
  "toc": {
   "base_numbering": 1,
   "nav_menu": {},
   "number_sections": true,
   "sideBar": true,
   "skip_h1_title": false,
   "title_cell": "Table of Contents",
   "title_sidebar": "Contents",
   "toc_cell": false,
   "toc_position": {},
   "toc_section_display": true,
   "toc_window_display": false
  }
 },
 "nbformat": 4,
 "nbformat_minor": 5
}
